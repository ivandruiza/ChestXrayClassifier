{
 "cells": [
  {
   "cell_type": "markdown",
   "metadata": {},
   "source": [
    "# Introduction\n",
    "## Problem description\n",
    "“In the United States, over 70 million chest X-rays (CXRs) are performed each year “(1). All those X-rays are interpreted by a radiologist, but the official interpretation may take from hours to days depending on the specific contexts, and there are some clinical centers where there is no radiologist for this interpretation.\n",
    "\n",
    "It is sometimes necessary to have a quick interpretation and, normally this is done by the medical doctors in the emergency room. Medical doctors are not always confident with their own interpretation so computer aided diagnostic (CAD) could possible help them in the interpretation.\n",
    "\n",
    "## Objective\n",
    "In this work we have the objective to use deep learning techniques for a binary class classification. Input will be a frontal (or PA) chest X-ray and the classifier is going to tell us if the exam is normal or not.\n",
    "\n",
    "## Dataset Description \n",
    "\n",
    "NIH Chest X-rays is a dataset containing 108,948 frontalview X-ray images of 32,717 unique patients with the text mined eight disease image labels (where each image can have multi-labels). Label according to the articles are taken from data mining from the PACS.(2)\n",
    "\n",
    "\n",
    "1. Iyeke L, Moss R, Hall R, Wang J, Sandhu L, Appold B, Kalontar E, Menoudakos D, Ramnarine M, LaVine SP, Ahn S, Richman M. Reducing Unnecessary 'Admission' Chest X-rays: An Initiative to Minimize Low-Value Care. Cureus. 2022 Oct 1;14(10):e29817. doi: 10.7759/cureus.29817. PMID: 36337809; PMCID: PMC9627105.\n",
    "\n",
    "2. Wang, Xiaosong, and Yifan Peng, et al. (2017) “ChestX-ray8: Hospital-scale Chest X-ray Database and Benchmarks on Weakly-Supervised Classification and Localization of Common Thorax Diseases”, 2017 IEEE Conference on Computer Vision and Pattern Recognition, 10.1109/CVPR.2017.369."
   ]
  },
  {
   "cell_type": "markdown",
   "metadata": {},
   "source": [
    "# EDA & Initial data preparations\n",
    "## Step 1: Imports & data loading"
   ]
  },
  {
   "cell_type": "code",
   "execution_count": 1,
   "metadata": {
    "execution": {
     "iopub.execute_input": "2025-06-11T02:20:46.764196Z",
     "iopub.status.busy": "2025-06-11T02:20:46.763922Z",
     "iopub.status.idle": "2025-06-11T02:20:49.322697Z",
     "shell.execute_reply": "2025-06-11T02:20:49.321417Z",
     "shell.execute_reply.started": "2025-06-11T02:20:46.764166Z"
    },
    "trusted": true
   },
   "outputs": [],
   "source": [
    "import os\n",
    "import warnings\n",
    "warnings.simplefilter(action='ignore', category=FutureWarning) # clean output on histograms\n",
    "import time\n",
    "import pandas as pd\n",
    "import matplotlib.pyplot as plt\n",
    "import numpy as np\n",
    "import seaborn as sns\n",
    "import random\n",
    "from PIL import Image"
   ]
  },
  {
   "cell_type": "code",
   "execution_count": 2,
   "metadata": {
    "execution": {
     "iopub.execute_input": "2025-06-11T02:20:49.324760Z",
     "iopub.status.busy": "2025-06-11T02:20:49.324224Z",
     "iopub.status.idle": "2025-06-11T02:20:49.709922Z",
     "shell.execute_reply": "2025-06-11T02:20:49.708912Z",
     "shell.execute_reply.started": "2025-06-11T02:20:49.324724Z"
    },
    "trusted": true
   },
   "outputs": [
    {
     "name": "stdout",
     "output_type": "stream",
     "text": [
      "(112120, 12)\n",
      "<class 'pandas.core.frame.DataFrame'>\n",
      "RangeIndex: 112120 entries, 0 to 112119\n",
      "Data columns (total 12 columns):\n",
      " #   Column                       Non-Null Count   Dtype  \n",
      "---  ------                       --------------   -----  \n",
      " 0   Image Index                  112120 non-null  object \n",
      " 1   Finding Labels               112120 non-null  object \n",
      " 2   Follow-up #                  112120 non-null  int64  \n",
      " 3   Patient ID                   112120 non-null  int64  \n",
      " 4   Patient Age                  112120 non-null  int64  \n",
      " 5   Patient Gender               112120 non-null  object \n",
      " 6   View Position                112120 non-null  object \n",
      " 7   OriginalImage[Width          112120 non-null  int64  \n",
      " 8   Height]                      112120 non-null  int64  \n",
      " 9   OriginalImagePixelSpacing[x  112120 non-null  float64\n",
      " 10  y]                           112120 non-null  float64\n",
      " 11  Unnamed: 11                  0 non-null       float64\n",
      "dtypes: float64(3), int64(5), object(4)\n",
      "memory usage: 10.3+ MB\n",
      "None\n"
     ]
    }
   ],
   "source": [
    "df = pd.read_csv('/kaggle/input/data/Data_Entry_2017.csv')\n",
    "\n",
    "print(df.shape)\n",
    "print(df.info())"
   ]
  },
  {
   "cell_type": "markdown",
   "metadata": {},
   "source": [
    "## Step 2: Limiting population\n",
    "\n",
    "We have in our hands a very complete dataset without null values. I have to say I am a radiologist with 4 years of experience and as a clinician I think this is low on clinical data. This is not exclusive of this dataset, this is more a problem of every clinical dataset, because of the ethical considerations behind this kind of data.\n",
    "\n",
    "So, we need to think only in the image classifier and the patient age. As this is going to be a binary class classifier, we are first of all making sure the tag of normal X-rays from adults between 18 and 59 years is correc. So we are now filtering and cheking a random sample. "
   ]
  },
  {
   "cell_type": "code",
   "execution_count": 3,
   "metadata": {
    "execution": {
     "iopub.execute_input": "2025-06-11T02:20:49.711796Z",
     "iopub.status.busy": "2025-06-11T02:20:49.711344Z",
     "iopub.status.idle": "2025-06-11T02:20:49.720125Z",
     "shell.execute_reply": "2025-06-11T02:20:49.719060Z",
     "shell.execute_reply.started": "2025-06-11T02:20:49.711766Z"
    },
    "trusted": true
   },
   "outputs": [
    {
     "data": {
      "text/plain": [
       "<bound method Series.unique of 0                   Cardiomegaly\n",
       "1         Cardiomegaly|Emphysema\n",
       "2          Cardiomegaly|Effusion\n",
       "3                     No Finding\n",
       "4                         Hernia\n",
       "                   ...          \n",
       "112115            Mass|Pneumonia\n",
       "112116                No Finding\n",
       "112117                No Finding\n",
       "112118                No Finding\n",
       "112119                No Finding\n",
       "Name: Finding Labels, Length: 112120, dtype: object>"
      ]
     },
     "execution_count": 3,
     "metadata": {},
     "output_type": "execute_result"
    }
   ],
   "source": [
    "df['Finding Labels'].unique"
   ]
  },
  {
   "cell_type": "code",
   "execution_count": 4,
   "metadata": {
    "execution": {
     "iopub.execute_input": "2025-06-11T02:20:49.721578Z",
     "iopub.status.busy": "2025-06-11T02:20:49.721222Z",
     "iopub.status.idle": "2025-06-11T02:20:49.767431Z",
     "shell.execute_reply": "2025-06-11T02:20:49.766498Z",
     "shell.execute_reply.started": "2025-06-11T02:20:49.721547Z"
    },
    "trusted": true
   },
   "outputs": [
    {
     "data": {
      "text/html": [
       "<div>\n",
       "<style scoped>\n",
       "    .dataframe tbody tr th:only-of-type {\n",
       "        vertical-align: middle;\n",
       "    }\n",
       "\n",
       "    .dataframe tbody tr th {\n",
       "        vertical-align: top;\n",
       "    }\n",
       "\n",
       "    .dataframe thead th {\n",
       "        text-align: right;\n",
       "    }\n",
       "</style>\n",
       "<table border=\"1\" class=\"dataframe\">\n",
       "  <thead>\n",
       "    <tr style=\"text-align: right;\">\n",
       "      <th></th>\n",
       "      <th>Image Index</th>\n",
       "      <th>Finding Labels</th>\n",
       "      <th>Follow-up #</th>\n",
       "      <th>Patient ID</th>\n",
       "      <th>Patient Age</th>\n",
       "      <th>Patient Gender</th>\n",
       "      <th>View Position</th>\n",
       "    </tr>\n",
       "  </thead>\n",
       "  <tbody>\n",
       "    <tr>\n",
       "      <th>0</th>\n",
       "      <td>00000001_000.png</td>\n",
       "      <td>Cardiomegaly</td>\n",
       "      <td>0</td>\n",
       "      <td>1</td>\n",
       "      <td>58</td>\n",
       "      <td>M</td>\n",
       "      <td>PA</td>\n",
       "    </tr>\n",
       "    <tr>\n",
       "      <th>1</th>\n",
       "      <td>00000001_001.png</td>\n",
       "      <td>Cardiomegaly|Emphysema</td>\n",
       "      <td>1</td>\n",
       "      <td>1</td>\n",
       "      <td>58</td>\n",
       "      <td>M</td>\n",
       "      <td>PA</td>\n",
       "    </tr>\n",
       "    <tr>\n",
       "      <th>2</th>\n",
       "      <td>00000001_002.png</td>\n",
       "      <td>Cardiomegaly|Effusion</td>\n",
       "      <td>2</td>\n",
       "      <td>1</td>\n",
       "      <td>58</td>\n",
       "      <td>M</td>\n",
       "      <td>PA</td>\n",
       "    </tr>\n",
       "    <tr>\n",
       "      <th>3</th>\n",
       "      <td>00000002_000.png</td>\n",
       "      <td>No Finding</td>\n",
       "      <td>0</td>\n",
       "      <td>2</td>\n",
       "      <td>81</td>\n",
       "      <td>M</td>\n",
       "      <td>PA</td>\n",
       "    </tr>\n",
       "    <tr>\n",
       "      <th>4</th>\n",
       "      <td>00000003_000.png</td>\n",
       "      <td>Hernia</td>\n",
       "      <td>0</td>\n",
       "      <td>3</td>\n",
       "      <td>81</td>\n",
       "      <td>F</td>\n",
       "      <td>PA</td>\n",
       "    </tr>\n",
       "  </tbody>\n",
       "</table>\n",
       "</div>"
      ],
      "text/plain": [
       "        Image Index          Finding Labels  Follow-up #  Patient ID  \\\n",
       "0  00000001_000.png            Cardiomegaly            0           1   \n",
       "1  00000001_001.png  Cardiomegaly|Emphysema            1           1   \n",
       "2  00000001_002.png   Cardiomegaly|Effusion            2           1   \n",
       "3  00000002_000.png              No Finding            0           2   \n",
       "4  00000003_000.png                  Hernia            0           3   \n",
       "\n",
       "   Patient Age Patient Gender View Position  \n",
       "0           58              M            PA  \n",
       "1           58              M            PA  \n",
       "2           58              M            PA  \n",
       "3           81              M            PA  \n",
       "4           81              F            PA  "
      ]
     },
     "execution_count": 4,
     "metadata": {},
     "output_type": "execute_result"
    }
   ],
   "source": [
    "df.drop(columns=['Unnamed: 11', 'OriginalImagePixelSpacing[x',\t'y]', 'OriginalImage[Width', 'Height]' ], inplace=True)\n",
    "df.head()"
   ]
  },
  {
   "cell_type": "code",
   "execution_count": 5,
   "metadata": {
    "execution": {
     "iopub.execute_input": "2025-06-11T02:20:49.769847Z",
     "iopub.status.busy": "2025-06-11T02:20:49.769505Z",
     "iopub.status.idle": "2025-06-11T02:20:49.775863Z",
     "shell.execute_reply": "2025-06-11T02:20:49.774673Z",
     "shell.execute_reply.started": "2025-06-11T02:20:49.769823Z"
    },
    "trusted": true
   },
   "outputs": [],
   "source": [
    "#print(df['Finding Labels'].unique())\n",
    "#print (df.info())\n",
    "# df.head()\n"
   ]
  },
  {
   "cell_type": "code",
   "execution_count": 6,
   "metadata": {
    "execution": {
     "iopub.execute_input": "2025-06-11T02:20:49.777355Z",
     "iopub.status.busy": "2025-06-11T02:20:49.777023Z",
     "iopub.status.idle": "2025-06-11T02:20:49.878058Z",
     "shell.execute_reply": "2025-06-11T02:20:49.876999Z",
     "shell.execute_reply.started": "2025-06-11T02:20:49.777325Z"
    },
    "trusted": true
   },
   "outputs": [
    {
     "name": "stdout",
     "output_type": "stream",
     "text": [
      "<class 'pandas.core.frame.DataFrame'>\n",
      "Index: 44217 entries, 76 to 112119\n",
      "Data columns (total 7 columns):\n",
      " #   Column          Non-Null Count  Dtype \n",
      "---  ------          --------------  ----- \n",
      " 0   Image Index     44217 non-null  object\n",
      " 1   Finding Labels  44217 non-null  object\n",
      " 2   Follow-up #     44217 non-null  int64 \n",
      " 3   Patient ID      44217 non-null  int64 \n",
      " 4   Patient Age     44217 non-null  int64 \n",
      " 5   Patient Gender  44217 non-null  object\n",
      " 6   View Position   44217 non-null  object\n",
      "dtypes: int64(3), object(4)\n",
      "memory usage: 2.7+ MB\n"
     ]
    }
   ],
   "source": [
    "search_query = \"No Finding\"\n",
    "normal_df = df[df['Finding Labels'].str.contains(search_query, case=False, na=False)]\n",
    "normal_df = normal_df[(normal_df['Patient Age'] >= 18) & (normal_df['Patient Age'] <= 59)]\n",
    "normal_df.info()"
   ]
  },
  {
   "cell_type": "code",
   "execution_count": 7,
   "metadata": {
    "execution": {
     "iopub.execute_input": "2025-06-11T02:20:49.879351Z",
     "iopub.status.busy": "2025-06-11T02:20:49.878978Z",
     "iopub.status.idle": "2025-06-11T02:20:51.068718Z",
     "shell.execute_reply": "2025-06-11T02:20:51.067453Z",
     "shell.execute_reply.started": "2025-06-11T02:20:49.879306Z"
    },
    "trusted": true
   },
   "outputs": [
    {
     "data": {
      "image/png": "[encoded data removed]",
      "text/plain": [
       "<Figure size 1000x400 with 2 Axes>"
      ]
     },
     "metadata": {},
     "output_type": "display_data"
    }
   ],
   "source": [
    "# Plotting numerical columns \n",
    "num_cols = ['Follow-up #', 'Patient Age']\n",
    "\n",
    "\n",
    "# Subplots layout\n",
    "n_cols = 2  # columns in line\n",
    "n_rows = (len(num_cols) + n_cols - 1) // n_cols\n",
    "\n",
    "plt.figure(figsize=(n_cols * 5, n_rows * 4))\n",
    "\n",
    "for idx, col in enumerate(num_cols, 1):\n",
    "    plt.subplot(n_rows, n_cols, idx)\n",
    "    sns.histplot(data=normal_df, x=col, kde=True if df[col].nunique() > 5 else False, bins=20)\n",
    "    plt.title(col)\n",
    "    plt.xlabel('')\n",
    "    plt.ylabel('Frecuency')\n",
    "\n",
    "plt.tight_layout()\n",
    "plt.show()"
   ]
  },
  {
   "cell_type": "code",
   "execution_count": 8,
   "metadata": {
    "execution": {
     "iopub.execute_input": "2025-06-11T02:20:51.069899Z",
     "iopub.status.busy": "2025-06-11T02:20:51.069605Z",
     "iopub.status.idle": "2025-06-11T02:20:51.539996Z",
     "shell.execute_reply": "2025-06-11T02:20:51.538573Z",
     "shell.execute_reply.started": "2025-06-11T02:20:51.069878Z"
    },
    "trusted": true
   },
   "outputs": [
    {
     "data": {
      "image/png": "[encoded data removed]",
      "text/plain": [
       "<Figure size 1600x1000 with 3 Axes>"
      ]
     },
     "metadata": {},
     "output_type": "display_data"
    }
   ],
   "source": [
    "# Categorical columns\n",
    "cat_cols = normal_df.select_dtypes(include=['object']).columns\n",
    "cat_cols = [col for col in cat_cols if col not in ['Image Index']]\n",
    "\n",
    "# layout\n",
    "n_cols = 2\n",
    "n_rows = (len(cat_cols) + n_cols - 1) // n_cols\n",
    "\n",
    "plt.figure(figsize=(n_cols * 8, n_rows * 5))\n",
    "\n",
    "for idx, col in enumerate(cat_cols, 1):\n",
    "    plt.subplot(n_rows, n_cols, idx)\n",
    "    \n",
    "    # Contar los 10 valores más frecuentes\n",
    "    top_categories = normal_df[col].value_counts().nlargest(10)\n",
    "    \n",
    "    sns.barplot(x=top_categories.values, y=top_categories.index, palette='viridis')\n",
    "    plt.title(col)\n",
    "    plt.xlabel('Frecuency')\n",
    "\n",
    "plt.tight_layout()\n",
    "plt.show()"
   ]
  },
  {
   "cell_type": "markdown",
   "metadata": {},
   "source": [
    "## Step 3: Looking at some images\n",
    "In the first cell we are going to asociate the path to the image and check some of them. Lets look at some random sample of 1000 Xrays, tagged as No Findings."
   ]
  },
  {
   "cell_type": "code",
   "execution_count": null,
   "metadata": {},
   "outputs": [],
   "source": [
    "import os\n",
    "import warnings\n",
    "warnings.simplefilter(action='ignore', category=FutureWarning) # clean output on histograms\n",
    "import time\n",
    "import pandas as pd\n",
    "import matplotlib.pyplot as plt\n",
    "import numpy as np\n",
    "import seaborn as sns\n",
    "import random\n",
    "from PIL import Image"
   ]
  },
  {
   "cell_type": "code",
   "execution_count": null,
   "metadata": {},
   "outputs": [],
   "source": [
    "df = pd.read_csv('/kaggle/input/data/Data_Entry_2017.csv')\n",
    "search_query = \"No Finding\"\n",
    "normal_df = df[df['Finding Labels'].str.contains(search_query, case=False, na=False)]\n",
    "normal_df = normal_df[(normal_df['Patient Age'] >= 18) & (normal_df['Patient Age'] <= 59)]\n",
    "df_sample = normal_df.sample(n=1000, random_state=42).reset_index(drop=True)"
   ]
  },
  {
   "cell_type": "code",
   "execution_count": null,
   "metadata": {},
   "outputs": [
    {
     "data": {
      "text/plain": [
       "'\\nCHECK IMG\\nmissing = df_sample[df_sample[\\'image_path\\'].isnull()]\\nprint(f\"Not found: {len(missing)}\")\\n\\n'"
      ]
     },
     "metadata": {},
     "output_type": "display_data"
    }
   ],
   "source": [
    "folders = [\n",
    "    '../input/data/images_001/images',\n",
    "    '../input/data/images_002/images',\n",
    "    '../input/data/images_003/images',\n",
    "    '../input/data/images_004/images',\n",
    "    '../input/data/images_005/images',\n",
    "    '../input/data/images_006/images',\n",
    "    '../input/data/images_007/images',\n",
    "    '../input/data/images_008/images',\n",
    "    '../input/data/images_009/images',\n",
    "    '../input/data/images_010/images',\n",
    "    '../input/data/images_011/images',\n",
    "    '../input/data/images_012/images',\n",
    "]\n",
    "\n",
    "def find_image_path(filename):\n",
    "    for folder in folders:\n",
    "        full_path = os.path.join(folder, filename)\n",
    "        if os.path.exists(full_path):\n",
    "            return full_path\n",
    "    return None\n",
    "\n",
    "df_sample['image_path'] = df_sample['Image Index'].apply(find_image_path)\n",
    "\n",
    "\"\"\"\n",
    "CHECK IMG\n",
    "missing = df_sample[df_sample['image_path'].isnull()]\n",
    "print(f\"Not found: {len(missing)}\")\n",
    "\n",
    "\"\"\""
   ]
  },
  {
   "cell_type": "code",
   "execution_count": null,
   "metadata": {},
   "outputs": [],
   "source": [
    "paths = df_sample['image_path'].values\n",
    "all_histograms = []\n",
    "\n",
    "for path in paths:\n",
    "    img = Image.open(path).convert('L')  \n",
    "    img_array = np.array(img)\n",
    "\n",
    "    hist, _ = np.histogram(img_array, bins=256, range=(0, 255))\n",
    "    hist = hist / hist.sum()\n",
    "    all_histograms.append(hist)\n",
    "\n",
    "# Compute mean histogram\n",
    "mean_hist = np.mean(all_histograms, axis=0)\n",
    "\n",
    "# Plot\n",
    "plt.plot(mean_hist, color='black')\n",
    "plt.title(\"Mean Histogram of Grayscale Intensities\")\n",
    "plt.xlabel(\"Pixel Intensity (0=black, 255=white)\")\n",
    "plt.ylabel(\"Average Proportion\")\n",
    "plt.grid(True)\n",
    "plt.show()\n",
    "\n",
    "# STD\n",
    "hist_stack = np.stack(all_histograms, axis=0)\n",
    "std_hist = np.std(hist_stack, axis=0)\n",
    "\n",
    "# Plot\n",
    "import matplotlib.pyplot as plt\n",
    "plt.plot(std_hist, color='red')\n",
    "plt.title(\"Standard Deviation of Histogram Bins\")\n",
    "plt.xlabel(\"Pixel Intensity\")\n",
    "plt.ylabel(\"Standard Deviation Across Images\")\n",
    "plt.grid(True)\n",
    "plt.show()\n"
   ]
  },
  {
   "cell_type": "code",
   "execution_count": null,
   "metadata": {},
   "outputs": [],
   "source": [
    "columns = 2\n",
    "total = 10\n",
    "rows = (total + columns - 1) // columns \n",
    "random.seed(42)  # Set a constant seed for reproducibility\n",
    "random_indices = random.sample(range(len(df_sample)), total)\n",
    "\n",
    "plt.figure(figsize=(columns * 5, rows * 5))\n",
    "\n",
    "for i, idx in enumerate(random_indices):\n",
    "    image_path = df_sample.iloc[idx]['image_path']\n",
    "    pil_img = Image.open(image_path).convert(\"RGB\")\n",
    "    \n",
    "    plt.subplot(rows, columns, i + 1)\n",
    "    plt.imshow(pil_img)\n",
    "    plt.axis('off')\n",
    "    \n",
    "plt.tight_layout()\n",
    "plt.show()"
   ]
  },
  {
   "cell_type": "markdown",
   "metadata": {},
   "source": [
    "# Main Findings\n",
    "\n",
    "We have mostly men and PA proyections in a database on tagged \"No Findings\".\n",
    "\n",
    "On this random sample one can see this tagged ‘No Finding’ are NOT normal. \n",
    "#4 has monitoring elements, No. 1, 2, and number 10 have catheters, No. 5 has bilaterlar opacities and drain cathtetes. This are 4/10 wrongly taged, so I am on trouble. \n",
    "\n",
    "If normals are tagged wrong I can’t train this classifier. As those images need to be curated and retagged I am going to tag them manually. I believe this 1000 images are enough.\n",
    "\n",
    "I will download this database and the csv of the sample look all of them an tag them again."
   ]
  },
  {
   "cell_type": "code",
   "execution_count": null,
   "metadata": {},
   "outputs": [],
   "source": [
    "\"\"\"\n",
    "import zipfile\n",
    "from tqdm.notebook import tqdm\n",
    "import os\n",
    "\n",
    "# Nombre del archivo zip\n",
    "zip_filename = 'sampled_images_1000.zip'\n",
    "\n",
    "# Crear el zip con las 1000 imágenes muestreadas\n",
    "with zipfile.ZipFile(zip_filename, 'w') as zipf:\n",
    "    for img_path in tqdm(df_sample['image_path'], desc=\"Empaquetando imágenes\"):\n",
    "        try:\n",
    "            arcname = os.path.basename(img_path)\n",
    "            zipf.write(img_path, arcname=arcname)\n",
    "        except Exception as e:\n",
    "            print(f\"❌ Error al agregar {img_path}: {e}\")\n",
    "\n",
    "print(f\"✅ ZIP listo: {zip_filename}\")\n",
    "\n",
    "\"\"\"\n"
   ]
  },
  {
   "cell_type": "code",
   "execution_count": null,
   "metadata": {},
   "outputs": [],
   "source": [
    "df_sample.to_csv('/kaggle/working/df_sample.csv', index=False)\n",
    "# rm -rf /kaggle/working/"
   ]
  },
  {
   "cell_type": "markdown",
   "metadata": {},
   "source": [
    "# Final Database\n",
    "After a manual inspection of the 1000 samples this ended up with 450 normal x ray vs. 550 not normal x ray. The big number of “mislabeled” data is mostly explained by the fact that this database was intended for a different classifier. It has tags on some specific pathologies, and the absence of those diseases is considered “No findings” it does not mean it is normal. Most of the not normal x ray in this sample are because they have catheters, some of them come from people with tracheal tubes and others are clearly mislabeled. But with this curated data I had the fortune to create two separate groups that are almost balanced. <br>\n",
    "I have here to confess I wanted more x rays, but this manual inspection is time consuming, so for now I will stay with this 1000 sample. I discarted 2 img because they were lateral proyections, and i manually fixed 2 inverted colored img."
   ]
  },
  {
   "cell_type": "code",
   "execution_count": null,
   "metadata": {},
   "outputs": [],
   "source": [
    "import os\n",
    "import numpy as np # linear algebra\n",
    "import pandas as pd # data processing, CSV file I/O (e.g. pd.read_csv)\n",
    "from sklearn.model_selection import train_test_split\n",
    "import matplotlib.pyplot as plt\n",
    "import numpy as np\n",
    "from PIL import Image"
   ]
  },
  {
   "cell_type": "code",
   "execution_count": null,
   "metadata": {},
   "outputs": [],
   "source": [
    "#Loading dataframe\n",
    "df = pd.read_csv('/kaggle/input/random-sample-of-adults-nih-normal-chest-x-rays/df_sample.csv')\n",
    "df.drop(columns=['Finding Labels'], inplace=True)\n",
    "\n",
    "#variables  for functions\n",
    "normal_x = set(os.listdir('/kaggle/input/random-sample-of-adults-nih-normal-chest-x-rays/sampled_images_1000/sampled_images_1000'))\n",
    "not_x = set(os.listdir('/kaggle/input/random-sample-of-adults-nih-normal-chest-x-rays/sampled_images_1000/sampled_images_1000/eliminated'))\n",
    "folders = [\n",
    "    '/kaggle/input/random-sample-of-adults-nih-normal-chest-x-rays/sampled_images_1000/sampled_images_1000',\n",
    "    '/kaggle/input/random-sample-of-adults-nih-normal-chest-x-rays/sampled_images_1000/sampled_images_1000/eliminated'\n",
    "]\n",
    "\n",
    "# Funcitions to get labels and paths\n",
    "def get_label(image_name):\n",
    "    if image_name in normal_x:\n",
    "        return 0\n",
    "    elif image_name in not_x:\n",
    "        return 1\n",
    "    else:\n",
    "        return pd.NaT\n",
    "        \n",
    "def find_image_path(filename):\n",
    "    for folder in folders:\n",
    "        full_path = os.path.join(folder, filename)\n",
    "        if os.path.exists(full_path):\n",
    "            return full_path\n",
    "    return None  # si no se encontró\n",
    "\n",
    "# Use functions to get labels and paths\n",
    "df['label'] = df['Image Index'].apply(get_label)\n",
    "df['label'].unique()\n",
    "df['image_path'] = df['Image Index'].apply(find_image_path)\n"
   ]
  },
  {
   "cell_type": "code",
   "execution_count": null,
   "metadata": {},
   "outputs": [],
   "source": [
    "df = df.dropna()\n",
    "df.info()"
   ]
  },
  {
   "cell_type": "markdown",
   "metadata": {},
   "source": [
    "# Modeling\n",
    "Now we are on track to create our model. Searching on medical database Kufle et al. (1) hay a good performance when using Densenet 121 pretrain (2), which for us comes in handy because we ended up with a small to medium dataset so a pretrain network and transfer learning can help us now.\n",
    "\n",
    "Also pytorch has a good documentation on how to implement this network. (3, 4)\n",
    "\n",
    "“Dense Convolutional Network (DenseNet), which connects each layer to every other layer in a feed-forward fashion. Whereas traditional convolutional networks with L layers have L connections - one between each layer and its subsequent layer - our network has L(L+1)/2 direct connections. For each layer, the feature-maps of all preceding layers are used as inputs, and its own feature-maps are used as inputs into all subsequent layers. DenseNets have several compelling advantages: they alleviate the vanishing-gradient problem, strengthen feature propagation, encourage feature reuse, and substantially reduce the number of parameters.” (2)\n",
    "\n",
    "\n",
    "1.\tKufel J, Bielówka M, Rojek M, Mitręga A, Lewandowski P, Cebula M, Krawczyk D, Bielówka M, Kondoł D, Bargieł-Łączek K, Paszkiewicz I, Czogalik Ł, Kaczyńska D, Wocław A, Gruszczyńska K, Nawrat Z. Multi-Label Classification of Chest X-ray Abnormalities Using Transfer Learning Techniques. J Pers Med. 2023 Sep 22;13(10):1426. doi: 10.3390/jpm13101426. PMID: 37888037; PMCID: PMC10607847.\n",
    "2.\tHuang, G., Liu, Z., van der Maaten, L., & Weinberger, K. Q. (2017). Densely Connected Convolutional Networks. Computer Vision and Pattern Recognition, 2261–2269. https://doi.org/10.1109/CVPR.2017.243\n",
    "3.\thttps://docs.pytorch.org/vision/main/models/generated/torchvision.models.densenet121.html\n"
   ]
  },
  {
   "cell_type": "code",
   "execution_count": null,
   "metadata": {},
   "outputs": [],
   "source": [
    "import torch\n",
    "import torch.nn as nn\n",
    "import torch.nn.functional as F\n",
    "import torch.optim as optim\n",
    "import torchvision\n",
    "import copy\n",
    "\n",
    "from torchvision import transforms\n",
    "from torchvision.io import read_image\n",
    "from torch.utils.data import Dataset\n",
    "from torchvision import models\n",
    "from torch.utils.data import DataLoader"
   ]
  },
  {
   "cell_type": "markdown",
   "metadata": {},
   "source": [
    "## Step 1: class creation and splitting data\n",
    "I am not using any data augmentation but chest x-rays are going to need a transformation for they to look as ImageNet data because the network is expecting to have this kind of input.\n"
   ]
  },
  {
   "cell_type": "code",
   "execution_count": null,
   "metadata": {},
   "outputs": [],
   "source": [
    "class ChestXrayDataset(Dataset):\n",
    "    def __init__(self, df, transform=None):\n",
    "        self.df = df.reset_index(drop=True)\n",
    "        self.transform = transform\n",
    "\n",
    "    def __len__(self):\n",
    "        return len(self.df)\n",
    "\n",
    "    def __getitem__(self, idx):\n",
    "        path = self.df.loc[idx, 'image_path']\n",
    "        label = self.df.loc[idx, 'label']\n",
    "        #load image\n",
    "        image = Image.open(path).convert(\"RGB\")\n",
    "        \n",
    "        if self.transform:\n",
    "            image = self.transform(image)\n",
    "        \n",
    "        return image, torch.tensor(label, dtype=torch.float32)"
   ]
  },
  {
   "cell_type": "code",
   "execution_count": null,
   "metadata": {},
   "outputs": [],
   "source": [
    "# (224x224px - Normalization -> ImageNet)\n",
    "transform = transforms.Compose([\n",
    "    transforms.Resize((224, 224)),\n",
    "    transforms.ToTensor(),\n",
    "    transforms.Normalize(mean=[0.485, 0.456, 0.406],  # Imagenet mean\n",
    "                         std=[0.229, 0.224, 0.225])    # Imagenet std\n",
    "])\n",
    "\n",
    "\n",
    "# 1. Split test-train\n",
    "df_train, df_val = train_test_split(df, stratify=df[\"label\"], test_size=0.2, random_state=1024)\n",
    "\n",
    "# 2. Datasets\n",
    "train_dataset = ChestXrayDataset(df_train, transform=transform) #normal + abnormal\n",
    "val_dataset = ChestXrayDataset(df_val, transform=transform)\n",
    "test_dataset = ChestXrayDataset(df.copy(), transform=transform)\n",
    "\n",
    "# 3. DataLoaders\n",
    "train_loader = DataLoader(train_dataset, batch_size=16, shuffle=True)\n",
    "val_loader = DataLoader(val_dataset, batch_size=16, shuffle=False)\n",
    "test_loader = DataLoader(test_dataset, batch_size=16, shuffle=False)"
   ]
  },
  {
   "cell_type": "code",
   "execution_count": null,
   "metadata": {},
   "outputs": [],
   "source": [
    "#Print images\n",
    "classes = ['Normal', 'Not-normal']\n",
    "\n",
    "def show_image_grid(images, labels, unnormalize=False):\n",
    "    fig, axes = plt.subplots(2, 8, figsize=(16, 5))\n",
    "    for i in range(16):\n",
    "        img = images[i]\n",
    "        label = labels[i]\n",
    "\n",
    "        if unnormalize:\n",
    "            img = img / 2 + 0.5  # unnormalize\n",
    "\n",
    "        npimg = img.numpy()\n",
    "        npimg = np.transpose(npimg, (1, 2, 0))  # CHW to HWC\n",
    "\n",
    "        ax = axes[i // 8, i % 8]\n",
    "        ax.imshow(npimg)\n",
    "        ax.set_title(classes[int(label.item())])\n",
    "        ax.axis('off')\n",
    "\n",
    "    plt.tight_layout()\n",
    "    plt.show()\n",
    "\n",
    "# Get a batch\n",
    "dataiter = iter(train_loader)\n",
    "images, labels = next(dataiter)\n",
    "\n",
    "# Show in 8x2 grid\n",
    "show_image_grid(images, labels, unnormalize=True)  # set to True if needed\n",
    "\n",
    "\n"
   ]
  },
  {
   "cell_type": "markdown",
   "metadata": {},
   "source": [
    "## Step 2: Initial configuration of model"
   ]
  },
  {
   "cell_type": "code",
   "execution_count": null,
   "metadata": {},
   "outputs": [],
   "source": [
    "# https://docs.pytorch.org/vision/main/models/generated/torchvision.models.densenet121.html\n",
    "device = torch.device(\"cuda\" if torch.cuda.is_available() else \"cpu\")\n",
    "\n",
    "# DenseNet-121\n",
    "model = models.densenet121(weights = 'DenseNet121_Weights.IMAGENET1K_V1')\n",
    "\n",
    "# (classifier) (0 - 1)\n",
    "num_features = model.classifier.in_features\n",
    "model.classifier = nn.Sequential(\n",
    "    nn.Linear(num_features, 1),      # 1 output\n",
    ")\n",
    "\n",
    "model = model.to(device)\n",
    "\n",
    "criterion = nn.BCEWithLogitsLoss()\n",
    "optimizer = optim.Adam(model.parameters(), lr=1e-4)\n",
    "num_epochs = 10\n",
    "\n",
    "checkpoint_path = '/kaggle/working/model/'\n",
    "os.makedirs(checkpoint_path, exist_ok=True)"
   ]
  },
  {
   "cell_type": "code",
   "execution_count": null,
   "metadata": {},
   "outputs": [],
   "source": [
    "def train_one_epoch(model, train_loader, criterion, optimizer, device, epoch, checkpoint_path, val_loader=None):\n",
    "    model.train()  # Mode\n",
    "    running_loss = 0.0\n",
    "\n",
    "    for images, labels in train_loader:\n",
    "        images = images.to(device)\n",
    "        labels = labels.to(device).float().unsqueeze(1)  # shape [B, 1]\n",
    "\n",
    "        optimizer.zero_grad()          # 1. Clean\n",
    "        outputs = model(images)        # 2. Forward\n",
    "        loss = criterion(outputs, labels)  # 3. Loss\n",
    "        loss.backward()                # 4. Backpropagation\n",
    "        optimizer.step()               # 5. Weights\n",
    "\n",
    "        running_loss += loss.item() * images.size(0)  # Total loss\n",
    "\n",
    "    epoch_loss = running_loss / len(train_loader.dataset)\n",
    "\n",
    "    # save\n",
    "    torch.save({\n",
    "        'epoch': epoch,\n",
    "        'model_state_dict': model.state_dict(),\n",
    "        'optimizer_state_dict': optimizer.state_dict(),\n",
    "        'loss': epoch_loss,\n",
    "    }, f\"{checkpoint_path}/checkpoint_epoch_{epoch}.pt\")\n",
    "    \n",
    "    return epoch_loss"
   ]
  },
  {
   "cell_type": "markdown",
   "metadata": {},
   "source": [
    "## Step 3: def Evaluate "
   ]
  },
  {
   "cell_type": "code",
   "execution_count": null,
   "metadata": {},
   "outputs": [],
   "source": [
    "def evaluate(model, val_loader, criterion, device):\n",
    "    model.eval()\n",
    "    val_loss = 0.0\n",
    "    all_preds = []\n",
    "    all_labels = []\n",
    "\n",
    "    with torch.no_grad():\n",
    "        for images, labels in val_loader:\n",
    "            images = images.to(device)\n",
    "            labels = labels.to(device).float().unsqueeze(1)\n",
    "\n",
    "            outputs = model(images)\n",
    "            probs = torch.sigmoid(outputs)\n",
    "            loss = criterion(outputs, labels)\n",
    "            val_loss += loss.item() * images.size(0)\n",
    "\n",
    "            preds = (outputs >= 0.5).int()\n",
    "            all_preds.append(preds.cpu())\n",
    "            all_labels.append(labels.cpu().int())\n",
    "\n",
    "    # all batches\n",
    "    all_preds = torch.cat(all_preds)\n",
    "    all_labels = torch.cat(all_labels)\n",
    "\n",
    "    # FP & FN\n",
    "    FP = ((all_preds == 1) & (all_labels == 0)).sum().item()\n",
    "    FN = ((all_preds == 0) & (all_labels == 1)).sum().item()\n",
    "\n",
    "    avg_loss = val_loss / len(val_loader.dataset)\n",
    "    \n",
    "    return avg_loss, FP, FN, all_preds, all_labels\n",
    "\n"
   ]
  },
  {
   "cell_type": "markdown",
   "metadata": {},
   "source": [
    "## Step 4: Training"
   ]
  },
  {
   "cell_type": "code",
   "execution_count": null,
   "metadata": {},
   "outputs": [],
   "source": [
    "for epoch in range(num_epochs):\n",
    "    train_loss = train_one_epoch(model, train_loader, criterion, optimizer, device, epoch, checkpoint_path)\n",
    "    val_loss, FP, FN, val_preds, val_labels = evaluate(model, val_loader, criterion, device)\n",
    "\n",
    "    print(f\"Epoch {epoch+1}/{num_epochs}\")\n",
    "    print(f\"Train Loss: {train_loss:.4f}\")\n",
    "    print(f\"Validation Loss:    {val_loss:.4f}\")\n",
    "    print(f\"FP:      {FP}\")\n",
    "    print(f\"FN:      {FN}\")\n",
    "    # print(val_preds.numpy().flatten())\n",
    "\n",
    "# images in validation set: print(val_dataset.df['image_path'].tolist())"
   ]
  },
  {
   "cell_type": "markdown",
   "metadata": {},
   "source": [
    "# Hyperparameter tuning\n",
    "\n",
    "Although those are decent results it seems clear this is a hard task. Loss functions tend to go down but the number of mislabeled tend does not go down the same way. Also is evident that after a while the network is overfitting. <br>\n",
    "Here we try various optimizers and at the same time play with the learning rate to see what is happening. Also, in this problem I believe false negatives are more problematic than false positive. Imagine you are at the ER with pneumonia and the CAD tells your doctor you are okey. I prefer to be okey and the CAD to be a little dramatic, so in the Loss function we are penalizing those FN harder."
   ]
  },
  {
   "cell_type": "code",
   "execution_count": null,
   "metadata": {},
   "outputs": [],
   "source": [
    "pos_weight = torch.tensor([2.0]).to(device)\n",
    "criterion = nn.BCEWithLogitsLoss(pos_weight=pos_weight)\n",
    "\n",
    "def train_model_with_optimizer(optimizer_name, model, train_loader, val_loader, criterion, device, epochs=10):\n",
    "    model_copy = copy.deepcopy(model)\n",
    "    \n",
    "    if optimizer_name == 'adam':\n",
    "        optimizer = torch.optim.Adam(model_copy.parameters(), lr=1e-5)\n",
    "    elif optimizer_name == 'adamw':\n",
    "        optimizer = torch.optim.AdamW(model_copy.parameters(), lr=1e-4, weight_decay=1e-2)\n",
    "    elif optimizer_name == 'sgd':\n",
    "        optimizer = torch.optim.SGD(model_copy.parameters(), lr=1e-4, momentum=0.9)\n",
    "    else:\n",
    "        raise ValueError(f\"Optimizer {optimizer_name} no soportado\")\n",
    "    \n",
    "    checkpoint_path = f'/kaggle/working/othermodels/{optimizer_name}'\n",
    "    os.makedirs(checkpoint_path, exist_ok=True)\n",
    "\n",
    "    for epoch in range(epochs):\n",
    "        train_loss = train_one_epoch(model_copy, train_loader, criterion, optimizer, device, epoch+1, checkpoint_path, val_loader)\n",
    "        val_loss, FP, FN, val_preds, y_true = evaluate(model_copy, val_loader, criterion, device)\n",
    "        \n",
    "        print(f\"Epoch {epoch+1}/{epochs}\")\n",
    "        print(f\"🔹 Train Loss: {train_loss:.4f}\")\n",
    "        print(f\"🔹 Val Loss:    {val_loss:.4f}\")\n",
    "        print(f\"🔸 FP:      {FP}\")\n",
    "        print(f\"🔸 FN:      {FN}\")\n",
    "        # preditions:  print(val_preds.numpy().flatten())\n",
    "\n",
    "    return model_copy\n"
   ]
  },
  {
   "cell_type": "code",
   "execution_count": null,
   "metadata": {},
   "outputs": [],
   "source": [
    "def plot_roc(y_true, y_scores, label=None):\n",
    "    fpr, tpr, _ = roc_curve(y_true, y_scores)\n",
    "    roc_auc = auc(fpr, tpr)\n",
    "    plt.plot(fpr, tpr, label=f'{label} (AUC = {roc_auc:.3f})')\n",
    "    return roc_auc\n"
   ]
  },
  {
   "cell_type": "code",
   "execution_count": null,
   "metadata": {},
   "outputs": [],
   "source": [
    "optimizers = ['adam', 'adamw', 'sgd']\n",
    "models = {}\n",
    "results = {}\n",
    "\n",
    "for opt_name in optimizers:\n",
    "    print(f\"\\nOptimizer: {opt_name}\")\n",
    "    trained_model = train_model_with_optimizer(opt_name, model, train_loader, val_loader, criterion, device, epochs=10)\n",
    "    models[opt_name] = trained_model\n",
    "\n",
    "    _, _, _, y_scores, y_true = evaluate(trained_model, val_loader, criterion, device)\n",
    "    results[opt_name] = (y_true, y_scores)"
   ]
  },
  {
   "cell_type": "code",
   "execution_count": null,
   "metadata": {},
   "outputs": [],
   "source": [
    "#  ROC curves\n",
    "from sklearn.metrics import roc_curve, auc, confusion_matrix\n",
    "\n",
    "plt.figure(figsize=(8,6))\n",
    "for opt_name, (y_true, y_scores) in results.items():\n",
    "    plot_roc(y_true, y_scores, label=opt_name)\n",
    "plt.plot([0,1], [0,1], 'k--')  # línea diagonal para referencia\n",
    "plt.xlabel(\"Falso Positivo\")\n",
    "plt.ylabel(\"Verdadero Positivo\")\n",
    "plt.title(\"Curvas ROC - Comparación de optimizadores\")\n",
    "plt.legend()\n",
    "plt.show()"
   ]
  },
  {
   "cell_type": "code",
   "execution_count": null,
   "metadata": {},
   "outputs": [],
   "source": [
    "def print_confusion_matrix(y_true, y_scores, threshold):\n",
    "    y_pred = (y_scores >= threshold).int().cpu().numpy()\n",
    "    cm = confusion_matrix(y_true, y_pred)\n",
    "    print(\"Matrix (threshold = {:.2f}):\".format(threshold))\n",
    "    print(cm)\n",
    "\n",
    "for opt_name, (y_true, y_scores) in results.items():\n",
    "    print(f\"\\nOptimizador: {opt_name}\")\n",
    "    print_confusion_matrix(y_true, y_scores, threshold=0.5)"
   ]
  },
  {
   "cell_type": "markdown",
   "metadata": {},
   "source": [
    "# Results & Discution\n",
    "We are now going to use our best model and check mistakes by hand.\n",
    "\n",
    "When comparing the ROC curves, we see they are similar, but taking into account the balance between FN and FP I am going to take the one that I consider the most suited to this problem. Lets see FN."
   ]
  },
  {
   "cell_type": "code",
   "execution_count": null,
   "metadata": {},
   "outputs": [],
   "source": [
    "# Load \n",
    "df_test = df[['image_path', 'label']].copy()\n",
    "model.to(device)\n",
    "\n",
    "# Choose checkpoint\n",
    "checkpoint_path = '/kaggle/working/othermodels/adamw/checkpoint_epoch_8.pt'\n",
    "\n",
    "# Load checkpoint & eval\n",
    "checkpoint = torch.load(checkpoint_path, map_location=device)\n",
    "model.load_state_dict(checkpoint['model_state_dict'])\n",
    "model.eval()\n",
    "\n",
    "predicted_classes = []\n",
    "prediction_scores = []\n",
    "\n",
    "for _, row in df_test.iterrows():\n",
    "    img_path = row['image_path']\n",
    "    \n",
    "    # Load\n",
    "    pil_img = Image.open(img_path).convert(\"RGB\")\n",
    "    input_tensor = transform(pil_img).unsqueeze(0).to(device)\n",
    "    input_tensor.requires_grad_()\n",
    "\n",
    "    # Forward\n",
    "    output = model(input_tensor)\n",
    "    prediction = torch.sigmoid(output).item()\n",
    "    predicted_class = 1 if prediction > 0.5 else 0\n",
    "\n",
    "    # Save\n",
    "    predicted_classes.append(predicted_class)\n",
    "    prediction_scores.append(prediction)\n",
    "\n",
    "# DataFrame\n",
    "df_test['predicted_class'] = predicted_classes\n",
    "df_test['score'] = prediction_scores\n",
    "\n",
    "\"\"\"\n",
    "Check DF\n",
    "\n",
    "print(df_test.head())\n",
    "\"\"\""
   ]
  },
  {
   "cell_type": "code",
   "execution_count": null,
   "metadata": {},
   "outputs": [],
   "source": [
    "df_missed = df_test[df_test['label'] != df_test['predicted_class']]\n",
    "df_missed.to_csv('/kaggle/working/df_missed.csv', index=False)\n",
    "df_missed.info()"
   ]
  },
  {
   "cell_type": "code",
   "execution_count": null,
   "metadata": {},
   "outputs": [],
   "source": [
    "df_FN = df_missed[(df_missed['label'] == 1) & (df_missed['predicted_class'] == 0)]\n",
    "columns = 5\n",
    "total = len(df_FN)\n",
    "rows = (total + columns - 1) // columns\n",
    "\n",
    "plt.figure(figsize=(columns * 3, rows * 3))\n",
    "\n",
    "for i, image_path in enumerate(df_FN['image_path']):\n",
    "    pil_img = Image.open(image_path).convert(\"RGB\")\n",
    "\n",
    "    plt.subplot(rows, columns, i + 1)\n",
    "    plt.imshow(pil_img)\n",
    "    plt.axis('off')\n",
    "    label = int(df_FN.iloc[i]['label']) \n",
    "    pred = int(df_FN.iloc[i]['predicted_class']) \n",
    "    plt.title(f\"True: {label} | Pred: {pred}\", fontsize=10)\n",
    "\n",
    "plt.tight_layout()\n",
    "plt.show()"
   ]
  },
  {
   "cell_type": "markdown",
   "metadata": {},
   "source": [
    "# Conclusion and final thoughts\n",
    "This is not the best classifier. It has a margin for improvement because it got wrong 10% of cases, even more if you consider df_test includes images from training, and I can see some big mistakes here. This is a difficult problem as sometimes normal from not normal is only a subtle difference. For future work I believe we need a bigger dataset, we need to test other types of CNN or create a custom one, we need to confirm my tags with colleagues, we can play a little bit more with the learning rate and the punishment for those FN. <br>\n",
    "In medical images there is so much to work with labels.\n",
    "It seems that this network is having trouble detecting those invasive catheters and tubes. Can this be because of the low resolution? Do we need special convolutional filter to capture this? Can we play with contrast to make catheters more visible?<br>\n",
    "Also we did not play and check with details score given by my network, a better treshold can help with FN.\n",
    "\n",
    "# How does it classify that way?\n",
    "To finish this work I am going to see hoy this is deciding using GradCAM. (1)\n",
    "\n",
    "1.\thttps://datascientest.com/es/que-es-el-metodo-grad-cam"
   ]
  },
  {
   "cell_type": "code",
   "execution_count": null,
   "metadata": {},
   "outputs": [],
   "source": [
    "!pip install torchcam --quiet"
   ]
  },
  {
   "cell_type": "code",
   "execution_count": null,
   "metadata": {},
   "outputs": [],
   "source": [
    "from torchcam.methods import GradCAM\n",
    "from torchcam.utils import overlay_mask\n",
    "from torchvision.transforms.functional import to_pil_image\n",
    "from torchcam.utils import overlay_mask"
   ]
  },
  {
   "cell_type": "code",
   "execution_count": null,
   "metadata": {},
   "outputs": [],
   "source": [
    "# 1. IMG\n",
    "image_path = \"/kaggle/input/random-sample-of-adults-nih-normal-chest-x-rays/sampled_images_1000/sampled_images_1000/eliminated/00000193_003.png\"\n",
    "pil_img = Image.open(image_path).convert(\"RGB\")\n",
    "plt.imshow(pil_img, cmap='gray')\n",
    "\n",
    "# 2. transform\n",
    "transform = transforms.Compose([\n",
    "    transforms.Resize((224, 224)),\n",
    "    transforms.ToTensor(),\n",
    "])\n",
    "\n",
    "input_tensor = transform(pil_img).unsqueeze(0).to(device)\n",
    "input_tensor.requires_grad_()  # ¡Importante para GradCAM!\n",
    "\n",
    "# 3. Eval\n",
    "model.eval()\n",
    "\n",
    "# 4. CAM\n",
    "cam_extractor = GradCAM(model, target_layer=\"features.denseblock4\")\n",
    "\n",
    "# 5. Forward\n",
    "output = model(input_tensor)\n",
    "\n",
    "# 6. Predition\n",
    "prediction = torch.sigmoid(output).item()\n",
    "predicted_class = 1 if prediction > 0.5 else 0\n",
    "\n",
    "print(f\"Predicción: {'NOT - Normal' if predicted_class == 1 else 'Normal'} (score: {prediction:.4f})\")\n",
    "\n",
    "# 7. Activación CAM\n",
    "activation_map = cam_extractor(0, output)"
   ]
  },
  {
   "cell_type": "code",
   "execution_count": null,
   "metadata": {},
   "outputs": [],
   "source": [
    "# Show img + activation\n",
    "pil_img = Image.open(image_path).convert(\"RGB\")\n",
    "cam = to_pil_image(activation_map[0].cpu(), mode='F').resize(pil_img.size)\n",
    "result = overlay_mask(pil_img, cam, alpha=0.6)\n",
    "\n",
    "plt.figure(figsize=(12,6))\n",
    "\n",
    "plt.subplot(1, 2, 1)\n",
    "plt.imshow(pil_img, cmap='gray')\n",
    "plt.title(\"Original\")\n",
    "plt.axis('off')\n",
    "\n",
    "plt.subplot(1, 2, 2)\n",
    "plt.imshow(result)\n",
    "plt.title(\"Grad-CAM Overlay\")\n",
    "plt.axis('off')\n",
    "\n",
    "plt.show()"
   ]
  },
  {
   "cell_type": "markdown",
   "metadata": {},
   "source": [
    "In this example is evident to me although the image is well classified tracheal tube is missed so this is another problem to work on.\n",
    "\n",
    "**This code would have been impossible for me without the help of ChatGPT.**\n"
   ]
  },
  {
   "cell_type": "code",
   "execution_count": null,
   "metadata": {},
   "outputs": [],
   "source": [
    "# rm -rf /kaggle/working/"
   ]
  }
 ],
 "metadata": {
  "kaggle": {
   "accelerator": "none",
   "dataSources": [
    {
     "datasetId": 5839,
     "sourceId": 18613,
     "sourceType": "datasetVersion"
    },
    {
     "datasetId": 7610161,
     "sourceId": 12094130,
     "sourceType": "datasetVersion"
    }
   ],
   "dockerImageVersionId": 31040,
   "isGpuEnabled": false,
   "isInternetEnabled": true,
   "language": "python",
   "sourceType": "notebook"
  },
  "kernelspec": {
   "display_name": "Python 3",
   "language": "python",
   "name": "python3"
  },
  "language_info": {
   "codemirror_mode": {
    "name": "ipython",
    "version": 3
   },
   "file_extension": ".py",
   "mimetype": "text/x-python",
   "name": "python",
   "nbconvert_exporter": "python",
   "pygments_lexer": "ipython3",
   "version": "3.11.11"
  }
 },
 "nbformat": 4,
 "nbformat_minor": 4
}
